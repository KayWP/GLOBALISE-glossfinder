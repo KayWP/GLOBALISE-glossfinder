{
 "cells": [
  {
   "cell_type": "markdown",
   "id": "8d2fcee9",
   "metadata": {},
   "source": [
    "Run  the cell below to import the gloss data as 'merged_df'"
   ]
  },
  {
   "cell_type": "code",
   "execution_count": 4,
   "id": "5ea1bcfc",
   "metadata": {},
   "outputs": [],
   "source": [
    "import pandas as pd\n",
    "merged_df = pd.read_csv('sample data/sample 8080_8480.csv')\n",
    "\n",
    "# Deleted columns Unnamed: 0\n",
    "merged_df.drop(['Unnamed: 0'], axis=1, inplace=True)"
   ]
  },
  {
   "cell_type": "markdown",
   "id": "cc18e79b",
   "metadata": {},
   "source": [
    "Run the cells below to define the needed functions"
   ]
  },
  {
   "cell_type": "code",
   "execution_count": 19,
   "id": "3654c9e1",
   "metadata": {},
   "outputs": [],
   "source": [
    "def find_glosses(search_term, search_df, search_type, tokenized_dict=None):\n",
    "    if tokenized_dict is None:\n",
    "        frequency = 0\n",
    "    elif isinstance(tokenized_dict, list):\n",
    "        total = 0\n",
    "        for d in tokenized_dict:\n",
    "            total += get_word_frequencies(d, search_term)\n",
    "        frequency = total\n",
    "    elif isinstance(tokenized_dict, dict):\n",
    "        frequency = get_word_frequencies(tokenized_dict, search_term)\n",
    "    else:\n",
    "        print('Invalid tokenized_dict type')\n",
    "        return\n",
    "    \n",
    "    if search_type == 0:\n",
    "        search_df = search_df[search_df['Term'] == search_term].reset_index(drop=True)\n",
    "    elif search_type == 1:\n",
    "        search_df = search_df[search_df['Term'].str.contains(search_term, na=False, regex=False)].reset_index(drop=True)\n",
    "    else:\n",
    "        print('Please use 0 or 1 as the search type')\n",
    "        return\n",
    "    \n",
    "    amount_of_glosses = len(search_df)\n",
    "    \n",
    "    print(f'it was glossed {amount_of_glosses} times')\n",
    "    \n",
    "    return search_df.filter(items=['Glossed As', 'first year', 'last year', 'locations', 'invno'])\n",
    "\n",
    "def search_definition(df, searchterm):\n",
    "    df = df[df['Glossed As'].str.contains(searchterm, na=False, regex=False)]\n",
    "    df = df.sort_values(by='Term', ascending=True, na_position='first')\n",
    "    df['search_term_used'] = searchterm\n",
    "    return df\n",
    "\n",
    "def count_terms(df, term):\n",
    "    df = df[df['search_term_used'] == term]\n",
    "    term_counts = df['Term'].value_counts()\n",
    "    return term_counts\n",
    "\n",
    "def find_sig(term_counts, term):\n",
    "    tc_df = pd.DataFrame(list(term_counts.items()), columns=['Term', 'Frequency'])\n",
    "    tc_df['gloss contains'] = term\n",
    "    tc_df = tc_df[tc_df['Frequency'] > 5]\n",
    "    \n",
    "    return tc_df\n",
    "\n",
    "def find_definitions(search_term, search_df, tokenized_dict=None):\n",
    "    if tokenized_dict is None:\n",
    "        frequency = 0\n",
    "    elif isinstance(tokenized_dict, list):\n",
    "        total = 0\n",
    "        for d in tokenized_dict:\n",
    "            total += get_word_frequencies(d, search_term)\n",
    "        frequency = total\n",
    "    elif isinstance(tokenized_dict, dict):\n",
    "        frequency = get_word_frequencies(tokenized_dict, search_term)\n",
    "    else:\n",
    "        print('Invalid tokenized_dict type')\n",
    "        return\n",
    "    \n",
    "    search_df = search_df[search_df['Glossed As'].str.contains(search_term, na=False, regex=False)].reset_index(drop=True)\n",
    "    \n",
    "    amount_of_glosses = len(search_df)\n",
    "    \n",
    "    print(f'it was found in definitions {amount_of_glosses} times')\n",
    "    \n",
    "    return set(list(search_df['Term']))"
   ]
  },
  {
   "cell_type": "markdown",
   "id": "8f09334d",
   "metadata": {},
   "source": [
    "Use the function below to find glossed terms. First argument is the term to search for. Second argument is the DF to search. Last argument is whether you want to match exactly (0), or if you want the gloss to contain the term (1)."
   ]
  },
  {
   "cell_type": "code",
   "execution_count": 20,
   "id": "ba6f4acd",
   "metadata": {},
   "outputs": [
    {
     "name": "stdout",
     "output_type": "stream",
     "text": [
      "it was glossed 20 times\n"
     ]
    },
    {
     "data": {
      "text/html": [
       "<div>\n",
       "<style scoped>\n",
       "    .dataframe tbody tr th:only-of-type {\n",
       "        vertical-align: middle;\n",
       "    }\n",
       "\n",
       "    .dataframe tbody tr th {\n",
       "        vertical-align: top;\n",
       "    }\n",
       "\n",
       "    .dataframe thead th {\n",
       "        text-align: right;\n",
       "    }\n",
       "</style>\n",
       "<table border=\"1\" class=\"dataframe\">\n",
       "  <thead>\n",
       "    <tr style=\"text-align: right;\">\n",
       "      <th></th>\n",
       "      <th>Glossed As</th>\n",
       "    </tr>\n",
       "  </thead>\n",
       "  <tbody>\n",
       "    <tr>\n",
       "      <th>0</th>\n",
       "      <td>het land van dodingo staande</td>\n",
       "    </tr>\n",
       "    <tr>\n",
       "      <th>1</th>\n",
       "      <td>vastigheijt staat, die omverre moed</td>\n",
       "    </tr>\n",
       "    <tr>\n",
       "      <th>2</th>\n",
       "      <td>heijning om hunne negorij soo</td>\n",
       "    </tr>\n",
       "    <tr>\n",
       "      <th>3</th>\n",
       "      <td>fortres wdert gemaakt des gelijx</td>\n",
       "    </tr>\n",
       "    <tr>\n",
       "      <th>4</th>\n",
       "      <td>vastigheijt in posselsie hadde genomen,</td>\n",
       "    </tr>\n",
       "    <tr>\n",
       "      <th>5</th>\n",
       "      <td>woninge op te werpen, tussen</td>\n",
       "    </tr>\n",
       "    <tr>\n",
       "      <th>6</th>\n",
       "      <td>vestinge met de daar in</td>\n",
       "    </tr>\n",
       "    <tr>\n",
       "      <th>7</th>\n",
       "      <td>restinge en een 1513 ---</td>\n",
       "    </tr>\n",
       "    <tr>\n",
       "      <th>8</th>\n",
       "      <td>strekte, niet aan gemaakt word</td>\n",
       "    </tr>\n",
       "    <tr>\n",
       "      <th>9</th>\n",
       "      <td>buijten post voorsorg, in den</td>\n",
       "    </tr>\n",
       "    <tr>\n",
       "      <th>10</th>\n",
       "      <td>vastigheijt te bouwen, 't geen</td>\n",
       "    </tr>\n",
       "    <tr>\n",
       "      <th>11</th>\n",
       "      <td>ten zij datter som= tijds</td>\n",
       "    </tr>\n",
       "    <tr>\n",
       "      <th>12</th>\n",
       "      <td>vastigheijt, en de bequaamste plaatse</td>\n",
       "    </tr>\n",
       "    <tr>\n",
       "      <th>13</th>\n",
       "      <td>vastigheijt op Rembang, deselve hebbe</td>\n",
       "    </tr>\n",
       "    <tr>\n",
       "      <th>14</th>\n",
       "      <td>de woning van den Tolk</td>\n",
       "    </tr>\n",
       "    <tr>\n",
       "      <th>15</th>\n",
       "      <td>vastigheyt met de daar binnen</td>\n",
       "    </tr>\n",
       "    <tr>\n",
       "      <th>16</th>\n",
       "      <td>residentie te kunnen spreken, en</td>\n",
       "    </tr>\n",
       "    <tr>\n",
       "      <th>17</th>\n",
       "      <td>vastight van panger: diepa alles</td>\n",
       "    </tr>\n",
       "    <tr>\n",
       "      <th>18</th>\n",
       "      <td>daar aan sijnde Puntjes en</td>\n",
       "    </tr>\n",
       "    <tr>\n",
       "      <th>19</th>\n",
       "      <td>pakhuijsen is gedaan alsoot eerste</td>\n",
       "    </tr>\n",
       "  </tbody>\n",
       "</table>\n",
       "</div>"
      ],
      "text/plain": [
       "                                 Glossed As\n",
       "0              het land van dodingo staande\n",
       "1       vastigheijt staat, die omverre moed\n",
       "2             heijning om hunne negorij soo\n",
       "3          fortres wdert gemaakt des gelijx\n",
       "4   vastigheijt in posselsie hadde genomen,\n",
       "5              woninge op te werpen, tussen\n",
       "6                   vestinge met de daar in\n",
       "7                  restinge en een 1513 ---\n",
       "8            strekte, niet aan gemaakt word\n",
       "9             buijten post voorsorg, in den\n",
       "10           vastigheijt te bouwen, 't geen\n",
       "11                ten zij datter som= tijds\n",
       "12    vastigheijt, en de bequaamste plaatse\n",
       "13    vastigheijt op Rembang, deselve hebbe\n",
       "14                   de woning van den Tolk\n",
       "15            vastigheyt met de daar binnen\n",
       "16         residentie te kunnen spreken, en\n",
       "17         vastight van panger: diepa alles\n",
       "18               daar aan sijnde Puntjes en\n",
       "19       pakhuijsen is gedaan alsoot eerste"
      ]
     },
     "execution_count": 20,
     "metadata": {},
     "output_type": "execute_result"
    }
   ],
   "source": [
    "find_glosses('pagger', merged_df, 0)"
   ]
  },
  {
   "cell_type": "markdown",
   "id": "13572381",
   "metadata": {},
   "source": [
    "Use the function below to search definitions rather than terms. First argument is the term to search for. Second argument is the DF to search. (note: takes ages if you use it on 'merged_df', better to use it on a smaller file or to optimize it."
   ]
  },
  {
   "cell_type": "code",
   "execution_count": 21,
   "id": "01705cf6",
   "metadata": {},
   "outputs": [
    {
     "name": "stdout",
     "output_type": "stream",
     "text": [
      "it was found in definitions 22 times\n"
     ]
    },
    {
     "data": {
      "text/plain": [
       "{'benting',\n",
       " 'beweginge',\n",
       " 'fortresje',\n",
       " 'hogie',\n",
       " 'logie',\n",
       " 'negorije',\n",
       " 'negorijen',\n",
       " 'paggaer',\n",
       " 'pagger',\n",
       " 'pagges',\n",
       " 'sterckte',\n",
       " 'twijffelen',\n",
       " 'vesting',\n",
       " 'vnting',\n",
       " 'voornaamste'}"
      ]
     },
     "execution_count": 21,
     "metadata": {},
     "output_type": "execute_result"
    }
   ],
   "source": [
    "find_definitions('vastigheijt', merged_df)"
   ]
  },
  {
   "cell_type": "code",
   "execution_count": null,
   "id": "63318158",
   "metadata": {},
   "outputs": [],
   "source": []
  }
 ],
 "metadata": {
  "kernelspec": {
   "display_name": "Python 3 (ipykernel)",
   "language": "python",
   "name": "python3"
  },
  "language_info": {
   "codemirror_mode": {
    "name": "ipython",
    "version": 3
   },
   "file_extension": ".py",
   "mimetype": "text/x-python",
   "name": "python",
   "nbconvert_exporter": "python",
   "pygments_lexer": "ipython3",
   "version": "3.10.9"
  }
 },
 "nbformat": 4,
 "nbformat_minor": 5
}
